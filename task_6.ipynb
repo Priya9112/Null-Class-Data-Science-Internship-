{
  "nbformat": 4,
  "nbformat_minor": 0,
  "metadata": {
    "colab": {
      "provenance": [],
      "authorship_tag": "ABX9TyPlDW9x3BgUI+nWjsymxkbh",
      "include_colab_link": true
    },
    "kernelspec": {
      "name": "python3",
      "display_name": "Python 3"
    },
    "language_info": {
      "name": "python"
    }
  },
  "cells": [
    {
      "cell_type": "markdown",
      "metadata": {
        "id": "view-in-github",
        "colab_type": "text"
      },
      "source": [
        "<a href=\"https://colab.research.google.com/github/Priya9112/Null-Class-Data-Science-Internship-/blob/main/task_6.ipynb\" target=\"_parent\"><img src=\"https://colab.research.google.com/assets/colab-badge.svg\" alt=\"Open In Colab\"/></a>"
      ]
    },
    {
      "cell_type": "markdown",
      "source": [
        "# **TASK - 6**"
      ],
      "metadata": {
        "id": "1qYoVgJtpoXY"
      }
    },
    {
      "cell_type": "markdown",
      "source": [
        "*6. Create a feature to translate the audio into Hindi . The system will listen the english audio from user and it will convert into Hindi word. If the system does not understand the audio it will ask repeat one more time to make it better.. The audio should be in English word only . This translation feature work on only after 6 PM IST timing and before that it should show message like please try after 6 PM IST as well as it should not translate any english which is start with M and O apart from that it should translate all other words .*"
      ],
      "metadata": {
        "id": "l8fapU1Zp35N"
      }
    },
    {
      "cell_type": "code",
      "source": [
        "!pip install speechrecognition googletrans==4.0.0-rc1 pydub\n",
        "\n"
      ],
      "metadata": {
        "colab": {
          "base_uri": "https://localhost:8080/"
        },
        "id": "V1vc5oIy1j-0",
        "outputId": "531e6117-5798-481b-eef4-ad51b9e0fde4"
      },
      "execution_count": null,
      "outputs": [
        {
          "output_type": "stream",
          "name": "stdout",
          "text": [
            "Requirement already satisfied: speechrecognition in /usr/local/lib/python3.10/dist-packages (3.10.4)\n",
            "Requirement already satisfied: googletrans==4.0.0-rc1 in /usr/local/lib/python3.10/dist-packages (4.0.0rc1)\n",
            "Requirement already satisfied: pydub in /usr/local/lib/python3.10/dist-packages (0.25.1)\n",
            "Requirement already satisfied: httpx==0.13.3 in /usr/local/lib/python3.10/dist-packages (from googletrans==4.0.0-rc1) (0.13.3)\n",
            "Requirement already satisfied: certifi in /usr/local/lib/python3.10/dist-packages (from httpx==0.13.3->googletrans==4.0.0-rc1) (2024.7.4)\n",
            "Requirement already satisfied: hstspreload in /usr/local/lib/python3.10/dist-packages (from httpx==0.13.3->googletrans==4.0.0-rc1) (2024.7.1)\n",
            "Requirement already satisfied: sniffio in /usr/local/lib/python3.10/dist-packages (from httpx==0.13.3->googletrans==4.0.0-rc1) (1.3.1)\n",
            "Requirement already satisfied: chardet==3.* in /usr/local/lib/python3.10/dist-packages (from httpx==0.13.3->googletrans==4.0.0-rc1) (3.0.4)\n",
            "Requirement already satisfied: idna==2.* in /usr/local/lib/python3.10/dist-packages (from httpx==0.13.3->googletrans==4.0.0-rc1) (2.10)\n",
            "Requirement already satisfied: rfc3986<2,>=1.3 in /usr/local/lib/python3.10/dist-packages (from httpx==0.13.3->googletrans==4.0.0-rc1) (1.5.0)\n",
            "Requirement already satisfied: httpcore==0.9.* in /usr/local/lib/python3.10/dist-packages (from httpx==0.13.3->googletrans==4.0.0-rc1) (0.9.1)\n",
            "Requirement already satisfied: h11<0.10,>=0.8 in /usr/local/lib/python3.10/dist-packages (from httpcore==0.9.*->httpx==0.13.3->googletrans==4.0.0-rc1) (0.9.0)\n",
            "Requirement already satisfied: h2==3.* in /usr/local/lib/python3.10/dist-packages (from httpcore==0.9.*->httpx==0.13.3->googletrans==4.0.0-rc1) (3.2.0)\n",
            "Requirement already satisfied: hyperframe<6,>=5.2.0 in /usr/local/lib/python3.10/dist-packages (from h2==3.*->httpcore==0.9.*->httpx==0.13.3->googletrans==4.0.0-rc1) (5.2.0)\n",
            "Requirement already satisfied: hpack<4,>=3.0 in /usr/local/lib/python3.10/dist-packages (from h2==3.*->httpcore==0.9.*->httpx==0.13.3->googletrans==4.0.0-rc1) (3.0.0)\n",
            "Requirement already satisfied: requests>=2.26.0 in /usr/local/lib/python3.10/dist-packages (from speechrecognition) (2.31.0)\n",
            "Requirement already satisfied: typing-extensions in /usr/local/lib/python3.10/dist-packages (from speechrecognition) (4.12.2)\n",
            "Requirement already satisfied: charset-normalizer<4,>=2 in /usr/local/lib/python3.10/dist-packages (from requests>=2.26.0->speechrecognition) (3.3.2)\n",
            "Requirement already satisfied: urllib3<3,>=1.21.1 in /usr/local/lib/python3.10/dist-packages (from requests>=2.26.0->speechrecognition) (2.0.7)\n"
          ]
        }
      ]
    },
    {
      "cell_type": "code",
      "source": [
        "import speech_recognition as sr\n",
        "from googletrans import Translator\n",
        "from datetime import datetime\n",
        "from pydub import AudioSegment\n",
        "\n",
        "def is_valid_time():\n",
        "    \"\"\"Check if the current time is after 6 PM IST.\"\"\"\n",
        "    current_time = datetime.now().time()\n",
        "    return current_time.hour >= 18\n",
        "\n",
        "def convert_mp3_to_wav(mp3_path):\n",
        "    \"\"\"Convert MP3 file to WAV format.\"\"\"\n",
        "    audio = AudioSegment.from_mp3(mp3_path)\n",
        "    wav_path = mp3_path.replace(\".mp3\", \".wav\")\n",
        "    audio.export(wav_path, format=\"wav\")\n",
        "    return wav_path\n",
        "\n",
        "def recognize_speech(audio_path):\n",
        "    \"\"\"Recognize speech from the provided audio file.\"\"\"\n",
        "    recognizer = sr.Recognizer()\n",
        "    with sr.AudioFile(audio_path) as source:\n",
        "        audio_data = recognizer.record(source)\n",
        "        try:\n",
        "            text = recognizer.recognize_google(audio_data, language='en-IN')\n",
        "            return text\n",
        "        except sr.UnknownValueError:\n",
        "            print(\"Sorry, I did not understand that. Please repeat.\")\n",
        "            return None\n",
        "        except sr.RequestError as e:\n",
        "            print(f\"Could not request results from Google Speech Recognition service; {e}\")\n",
        "            return None\n",
        "\n",
        "def translate_to_hindi(text):\n",
        "    \"\"\"Translate English text to Hindi.\"\"\"\n",
        "    translator = Translator()\n",
        "    try:\n",
        "        translation = translator.translate(text, src='en', dest='hi')\n",
        "        return translation.text\n",
        "    except Exception as e:\n",
        "        print(f\"Translation error: {e}\")\n",
        "        return text\n",
        "\n",
        "def should_translate(word):\n",
        "    \"\"\"Check if a word should be translated based on the first letter.\"\"\"\n",
        "    return not (word.startswith('M') or word.startswith('O'))\n",
        "\n",
        "def main():\n",
        "    if not is_valid_time():\n",
        "        print(\"Please try after 6 PM IST.\")\n",
        "        return\n",
        "\n",
        "    audio_path = \"/content/3-my-flower-garden.mp3\"\n",
        "\n",
        "    if audio_path.endswith(\".mp3\"):\n",
        "        audio_path = convert_mp3_to_wav(audio_path)\n",
        "    text = recognize_speech(audio_path)\n",
        "\n",
        "    if text is None:\n",
        "        return\n",
        "\n",
        "    words = text.split()\n",
        "    translated_words = [translate_to_hindi(word) if should_translate(word) else word for word in words]\n",
        "    translated_text = ' '.join(translated_words)\n",
        "\n",
        "    print(\"Translated text:\", translated_text)\n",
        "\n",
        "if __name__ == \"__main__\":\n",
        "    main()\n"
      ],
      "metadata": {
        "colab": {
          "base_uri": "https://localhost:8080/"
        },
        "id": "8siBxqfI9QaD",
        "outputId": "92fb717a-79a4-42fe-ad06-330f0ab8e98b"
      },
      "execution_count": null,
      "outputs": [
        {
          "output_type": "stream",
          "name": "stdout",
          "text": [
            "Translation error: sequence item 0: expected str instance, NoneType found\n",
            "Translated text: मेरा फूल बगीचा मेरा नाम है ऐनी मैं प्यार पुष्प मैं पास होना ए फूल बगीचा मेरा बगीचा है में सामने का मेरा घर मेरा पड़ोसी है ए बगीचा बहुत मेरा बगीचा है अलग प्रकार का पुष्प मैं पास होना गुलाब के फूल में मेरा बगीचा मैं पास होना गुलदस्ता में मेरा बगीचा मैं पास होना फूल में मेरा बगीचा मेरा बगीचा है अलग रंग की मैं पौधा लाल पुष्प मैं लेना देखभाल का मेरा बगीचा मैं पानी मेरा बगीचा प्रत्येक दिन मैं मारना the मातम में मेरा बगीचा मैं मारना कीड़े वह खाओ मेरा पुष्प मैं प्यार मेरा सुंदर बगीचा\n"
          ]
        }
      ]
    },
    {
      "cell_type": "code",
      "source": [
        "import speech_recognition as sr\n",
        "from googletrans import Translator\n",
        "from datetime import datetime\n",
        "from pydub import AudioSegment\n",
        "\n",
        "def is_valid_time():\n",
        "    \"\"\"Check if the current time is after 6 PM IST.\"\"\"\n",
        "    current_time = datetime.now().time()\n",
        "    return current_time.hour >= 18\n",
        "\n",
        "def convert_mp3_to_wav(mp3_path):\n",
        "    \"\"\"Convert MP3 file to WAV format.\"\"\"\n",
        "    audio = AudioSegment.from_mp3(mp3_path)\n",
        "    wav_path = mp3_path.replace(\".mp3\", \".wav\")\n",
        "    audio.export(wav_path, format=\"wav\")\n",
        "    return wav_path\n",
        "\n",
        "def recognize_speech(audio_path):\n",
        "    \"\"\"Recognize speech from the provided audio file.\"\"\"\n",
        "    recognizer = sr.Recognizer()\n",
        "    with sr.AudioFile(audio_path) as source:\n",
        "        audio_data = recognizer.record(source)\n",
        "        try:\n",
        "            text = recognizer.recognize_google(audio_data, language='en-IN')\n",
        "            return text\n",
        "        except sr.UnknownValueError:\n",
        "            print(\"Sorry, I did not understand that. Please repeat.\")\n",
        "            return None\n",
        "        except sr.RequestError as e:\n",
        "            print(f\"Could not request results from Google Speech Recognition service; {e}\")\n",
        "            return None\n",
        "\n",
        "def translate_to_hindi(text):\n",
        "    \"\"\"Translate English text to Hindi.\"\"\"\n",
        "    translator = Translator()\n",
        "    try:\n",
        "        translation = translator.translate(text, src='en', dest='hi')\n",
        "        return translation.text\n",
        "    except Exception as e:\n",
        "        print(f\"Translation error: {e}\")\n",
        "        return text\n",
        "\n",
        "def should_translate(word):\n",
        "    \"\"\"Check if a word should be translated based on the first letter.\"\"\"\n",
        "    return not (word.startswith('M') or word.startswith('O'))\n",
        "\n",
        "def main():\n",
        "    if not is_valid_time():\n",
        "        print(\"Please try after 6 PM IST.\")\n",
        "        return\n",
        "\n",
        "    audio_path = \"/content/7-color-2.mp3\"\n",
        "\n",
        "    if audio_path.endswith(\".mp3\"):\n",
        "        audio_path = convert_mp3_to_wav(audio_path)\n",
        "    text = recognize_speech(audio_path)\n",
        "\n",
        "    if text is None:\n",
        "        return\n",
        "\n",
        "    words = text.split()\n",
        "    translated_words = [translate_to_hindi(word) if should_translate(word) else word for word in words]\n",
        "    translated_text = ' '.join(translated_words)\n",
        "\n",
        "    print(\"Translated text:\", translated_text)\n",
        "\n",
        "if __name__ == \"__main__\":\n",
        "    main()\n"
      ],
      "metadata": {
        "colab": {
          "base_uri": "https://localhost:8080/"
        },
        "id": "P4VIEnVL5bl5",
        "outputId": "7fc5acfc-d328-4b5b-dc71-bf4d177f370b"
      },
      "execution_count": null,
      "outputs": [
        {
          "output_type": "stream",
          "name": "stdout",
          "text": [
            "Translated text: रंग दो क्षमा मुझे है यह आपका छाता जानना यह नहीं है हैं आप ज़रूर हाँ मैं पूर्वाह्न ज़रूर वह छाता है भूरा और मेरा छाता है पीला\n"
          ]
        }
      ]
    }
  ]
}