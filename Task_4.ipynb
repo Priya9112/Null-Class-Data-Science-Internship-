{
  "nbformat": 4,
  "nbformat_minor": 0,
  "metadata": {
    "colab": {
      "provenance": [],
      "authorship_tag": "ABX9TyNLhY7ae12B7Sx8dnk1rHJC",
      "include_colab_link": true
    },
    "kernelspec": {
      "name": "python3",
      "display_name": "Python 3"
    },
    "language_info": {
      "name": "python"
    }
  },
  "cells": [
    {
      "cell_type": "markdown",
      "metadata": {
        "id": "view-in-github",
        "colab_type": "text"
      },
      "source": [
        "<a href=\"https://colab.research.google.com/github/Priya9112/Null-Class-Data-Science-Internship-/blob/main/Task_4.ipynb\" target=\"_parent\"><img src=\"https://colab.research.google.com/assets/colab-badge.svg\" alt=\"Open In Colab\"/></a>"
      ]
    },
    {
      "cell_type": "markdown",
      "source": [
        "# **TASK-4**\n",
        "Create a feature to throw an error if we enter the wrong word . For example if we enter a word which is not available the program should throw an error saying like this “word is not available” and provide some suggestion related to the word which is incorrect . If the user enter continuously 2 wrong word it should show list of wrong words which we enter so far in the error notification as well as it should give some suggestions related with wrong word ."
      ],
      "metadata": {
        "id": "jL4pJ_jhPmyr"
      }
    },
    {
      "cell_type": "code",
      "execution_count": 2,
      "metadata": {
        "colab": {
          "base_uri": "https://localhost:8080/"
        },
        "id": "TwqRtqELPTT0",
        "outputId": "24b69a58-7130-485d-f120-ab80467f3fd9"
      },
      "outputs": [
        {
          "output_type": "stream",
          "name": "stdout",
          "text": [
            "Mounted at /content/drive\n"
          ]
        }
      ],
      "source": [
        "from google.colab import drive\n",
        "drive.mount('/content/drive')"
      ]
    },
    {
      "cell_type": "markdown",
      "source": [
        "### **Experimenting with English_Vocabulary using an English-to-Spanish Translation Model**"
      ],
      "metadata": {
        "id": "2Lj_qbRoQf8L"
      }
    },
    {
      "cell_type": "code",
      "source": [
        "import json\n",
        "\n",
        "with open('/content/drive/MyDrive/Json/eng_vocab.json', 'r', encoding='utf-8') as f:\n",
        "    eng_vocab = json.load(f)\n",
        "\n",
        "num_known_words = len(eng_vocab)\n",
        "print(f\"Number of known words in eng_vocab: {num_known_words}\")\n"
      ],
      "metadata": {
        "colab": {
          "base_uri": "https://localhost:8080/"
        },
        "id": "krxDe4wuPfHa",
        "outputId": "c2c3dfd1-50f1-4115-d9b1-5e6bca79246e"
      },
      "execution_count": 3,
      "outputs": [
        {
          "output_type": "stream",
          "name": "stdout",
          "text": [
            "Number of known words in eng_vocab: 12138\n"
          ]
        }
      ]
    },
    {
      "cell_type": "code",
      "source": [
        "import difflib\n",
        "import json\n",
        "\n",
        "with open('/content/drive/MyDrive/Json/eng_vocab.json', 'r', encoding='utf-8') as f:\n",
        "    eng_vocab = json.load(f)\n",
        "\n",
        "def get_suggestions(word, known_words, num_suggestions=3):\n",
        "    return difflib.get_close_matches(word, known_words, n=num_suggestions)\n",
        "\n",
        "def validate_word(word, known_words, wrong_words, max_attempts=2):\n",
        "    attempts = 0\n",
        "    while attempts < max_attempts:\n",
        "        if word.lower() in known_words:\n",
        "            return word.lower()\n",
        "        else:\n",
        "            suggestions = get_suggestions(word, known_words)\n",
        "            wrong_words.append(word)\n",
        "            attempts += 1\n",
        "\n",
        "            if attempts < max_attempts:\n",
        "                print(f\"-> Word '{word}' is not available. Suggestions: {', '.join(suggestions)}\")\n",
        "                word = input(\"=> Please enter the word again: \").strip().lower()\n",
        "            else:\n",
        "                print(f\"-> Word '{word}' is not available. Suggestions: {', '.join(suggestions)}\")\n",
        "                print(f\"Reached maximum attempts. Here are the wrong words entered:\")\n",
        "                print(\", \".join(wrong_words))\n",
        "                raise ValueError(f\"=> Final Suggestions: {', '.join(suggestions)}\")\n",
        "\n",
        "def handle_user_input():\n",
        "    wrong_words = []\n",
        "    max_attempts = 2\n",
        "    attempts = 0\n",
        "\n",
        "    while attempts < max_attempts:\n",
        "        input_word = input(\"=> Enter a word: \").strip().lower()\n",
        "\n",
        "        try:\n",
        "            validated_word = validate_word(input_word, eng_vocab, wrong_words)\n",
        "            print(f\"Validated word: {validated_word}\")\n",
        "            break\n",
        "        except ValueError as e:\n",
        "            print(e)\n",
        "            break\n",
        "\n",
        "try:\n",
        "    handle_user_input()\n",
        "except Exception as e:\n",
        "    print(f\"An error occurred: {e}\")\n"
      ],
      "metadata": {
        "colab": {
          "base_uri": "https://localhost:8080/"
        },
        "id": "US9rRN5zPf6c",
        "outputId": "c3f40a0c-bdfb-43d1-a473-94bc9f149da1"
      },
      "execution_count": 18,
      "outputs": [
        {
          "output_type": "stream",
          "name": "stdout",
          "text": [
            "=> Enter a word: grapis\n",
            "-> Word 'grapis' is not available. Suggestions: graphics, grapes, graphic\n",
            "=> Please enter the word again: graphices\n",
            "-> Word 'graphices' is not available. Suggestions: graphics, graphic, grapes\n",
            "Reached maximum attempts. Here are the wrong words entered:\n",
            "grapis, graphices\n",
            "=> Final Suggestions: graphics, graphic, grapes\n"
          ]
        }
      ]
    },
    {
      "cell_type": "markdown",
      "source": [
        "### **Experimenting with Spanish_Vocabulary using an English-to-Spanish Translation Model**"
      ],
      "metadata": {
        "id": "vq47z3krRuAq"
      }
    },
    {
      "cell_type": "code",
      "source": [
        "import json\n",
        "\n",
        "with open('/content/drive/MyDrive/Json/spa_vocab.json', 'r', encoding='utf-8') as f:\n",
        "    spa_vocab = json.load(f)\n",
        "\n",
        "num_known_words = len(spa_vocab)\n",
        "print(f\"Number of known words in spa_vocab: {num_known_words}\")\n"
      ],
      "metadata": {
        "colab": {
          "base_uri": "https://localhost:8080/"
        },
        "id": "Mj8zcJbARyaC",
        "outputId": "4ef8ba8e-c3e7-495d-ccd4-30bbfcf1d3d1"
      },
      "execution_count": 11,
      "outputs": [
        {
          "output_type": "stream",
          "name": "stdout",
          "text": [
            "Number of known words in spa_vocab: 15000\n"
          ]
        }
      ]
    },
    {
      "cell_type": "code",
      "source": [
        "import difflib\n",
        "import json\n",
        "\n",
        "with open('/content/drive/MyDrive/Json/spa_vocab.json', 'r', encoding='utf-8') as f:\n",
        "    spa_vocab = json.load(f)\n",
        "\n",
        "def get_suggestions(word, known_words, num_suggestions=3):\n",
        "    return difflib.get_close_matches(word, known_words, n=num_suggestions)\n",
        "\n",
        "def validate_word(word, known_words, wrong_words, max_attempts=2):\n",
        "    attempts = 0\n",
        "    while attempts < max_attempts:\n",
        "        if word.lower() in known_words:\n",
        "            return word.lower()\n",
        "        else:\n",
        "            suggestions = get_suggestions(word, known_words)\n",
        "            wrong_words.append(word)\n",
        "            attempts += 1\n",
        "\n",
        "            if attempts < max_attempts:\n",
        "                print(f\"-> Word '{word}' is not available. Suggestions: {', '.join(suggestions)}\")\n",
        "                word = input(\"=> Please enter the word again: \").strip().lower()\n",
        "            else:\n",
        "                print(f\"-> Word '{word}' is not available. Suggestions: {', '.join(suggestions)}\")\n",
        "                print(f\"Reached maximum attempts. Here are the wrong words entered:\")\n",
        "                print(\", \".join(wrong_words))\n",
        "                raise ValueError(f\"=> Final Suggestions: {', '.join(suggestions)}\")\n",
        "\n",
        "def handle_user_input():\n",
        "    wrong_words = []\n",
        "    max_attempts = 2\n",
        "    attempts = 0\n",
        "\n",
        "    while attempts < max_attempts:\n",
        "        input_word = input(\"=> Enter a word: \").strip().lower()\n",
        "\n",
        "        try:\n",
        "            validated_word = validate_word(input_word, spa_vocab, wrong_words)\n",
        "            print(f\"Validated word: {validated_word}\")\n",
        "            break\n",
        "        except ValueError as e:\n",
        "            print(e)\n",
        "            break\n",
        "\n",
        "try:\n",
        "    handle_user_input()\n",
        "except Exception as e:\n",
        "    print(f\"An error occurred: {e}\")\n"
      ],
      "metadata": {
        "colab": {
          "base_uri": "https://localhost:8080/"
        },
        "id": "Ox-nfMzgR14r",
        "outputId": "c4fc9c68-9190-4974-8cbb-aad497ffd01d"
      },
      "execution_count": 15,
      "outputs": [
        {
          "output_type": "stream",
          "name": "stdout",
          "text": [
            "=> Enter a word: hoola\n",
            "-> Word 'hoola' is not available. Suggestions: hola, ¡hola, ola\n",
            "=> Please enter the word again: holaa\n",
            "-> Word 'holaa' is not available. Suggestions: hola, holanda, ¡hola\n",
            "Reached maximum attempts. Here are the wrong words entered:\n",
            "hoola, holaa\n",
            "=> Final Suggestions: hola, holanda, ¡hola\n"
          ]
        }
      ]
    }
  ]
}