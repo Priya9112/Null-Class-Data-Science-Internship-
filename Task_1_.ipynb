{
  "nbformat": 4,
  "nbformat_minor": 0,
  "metadata": {
    "colab": {
      "provenance": [],
      "mount_file_id": "1pz6fKIxMQkxtCQ2MADvD5D1pJvoAmVHQ",
      "authorship_tag": "ABX9TyNcnNxylpStfmczONn8d/WW",
      "include_colab_link": true
    },
    "kernelspec": {
      "name": "python3",
      "display_name": "Python 3"
    },
    "language_info": {
      "name": "python"
    }
  },
  "cells": [
    {
      "cell_type": "markdown",
      "metadata": {
        "id": "view-in-github",
        "colab_type": "text"
      },
      "source": [
        "<a href=\"https://colab.research.google.com/github/Priya9112/Null-Class-Data-Science-Internship-/blob/main/Task_1_.ipynb\" target=\"_parent\"><img src=\"https://colab.research.google.com/assets/colab-badge.svg\" alt=\"Open In Colab\"/></a>"
      ]
    },
    {
      "cell_type": "markdown",
      "source": [
        "# **TASK-1**\n",
        "### *1.Load a pre-trained LSTM-based NMT model and use it to translate a sentence from one language to another.*"
      ],
      "metadata": {
        "id": "BpUYVknu6z4N"
      }
    },
    {
      "cell_type": "code",
      "execution_count": 1,
      "metadata": {
        "id": "LErP63UO5q0D"
      },
      "outputs": [],
      "source": [
        "import collections\n",
        "import numpy as np\n",
        "import json\n",
        "\n",
        "from keras.preprocessing.text import Tokenizer\n",
        "from keras.utils import pad_sequences\n",
        "from keras.models import Model, Sequential\n",
        "from keras.layers import Input, Dense, Embedding, GRU, LSTM, Bidirectional, Dropout, Activation, TimeDistributed, RepeatVector\n",
        "from keras.optimizers import Adam\n",
        "from keras.losses import sparse_categorical_crossentropy"
      ]
    },
    {
      "cell_type": "code",
      "source": [
        "from tensorflow.keras.models import load_model\n",
        "from tensorflow.keras.preprocessing.text import tokenizer_from_json\n",
        "from tensorflow.keras.preprocessing.sequence import pad_sequences\n",
        "import json\n",
        "\n",
        "def logits_to_text(logits, tokenizer):\n",
        "    index_to_words = {idx: word for word, idx in tokenizer.word_index.items()}\n",
        "    index_to_words[0] = '<PAD>'  # Add padding token\n",
        "    return ' '.join([index_to_words[prediction] for prediction in np.argmax(logits, 1)])\n",
        "\n",
        "model = load_model('/content/drive/MyDrive/english_to_french_model')\n",
        "\n",
        "with open('/content/drive/MyDrive/Json/english_tokenizer.json') as f:\n",
        "    english_tokenizer_json = json.load(f)\n",
        "english_tokenizer = tokenizer_from_json(english_tokenizer_json)\n",
        "\n",
        "with open('/content/drive/MyDrive/Json/french_tokenizer.json') as f:\n",
        "    french_tokenizer_json = json.load(f)\n",
        "french_tokenizer = tokenizer_from_json(french_tokenizer_json)\n",
        "\n",
        "with open('/content/drive/MyDrive/Json/sequence_length.json') as f:\n",
        "    max_french_sequence_length = json.load(f)\n",
        "\n",
        "input_sentence = 'the united states is never nice during february , but it is sometimes pleasant in april .'\n",
        "input_sequence = english_tokenizer.texts_to_sequences([input_sentence])\n",
        "input_sequence = pad_sequences(input_sequence, maxlen=max_french_sequence_length)\n",
        "\n",
        "translation = model.predict(input_sequence)\n",
        "translation_text = logits_to_text(translation[0], french_tokenizer)\n",
        "translation_text = ' '.join([word for word in translation_text.split() if word != '<PAD>'])\n",
        "\n",
        "print('Input sentence:', input_sentence)\n",
        "print('Translation:', translation_text)\n"
      ],
      "metadata": {
        "colab": {
          "base_uri": "https://localhost:8080/"
        },
        "id": "-TMDQSFd6eSD",
        "outputId": "ea55a498-8644-455c-9ff0-38b87b369f82"
      },
      "execution_count": 5,
      "outputs": [
        {
          "output_type": "stream",
          "name": "stdout",
          "text": [
            "1/1 [==============================] - 1s 753ms/step\n",
            "Input sentence: the united states is never nice during february , but it is sometimes pleasant in april .\n",
            "Translation: les états unis est jamais agréable en février mais il est parfois agréable en avril\n"
          ]
        }
      ]
    }
  ]
}